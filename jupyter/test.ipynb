{
 "cells": [
  {
   "cell_type": "code",
   "execution_count": null,
   "id": "a4bcbf0c",
   "metadata": {},
   "outputs": [],
   "source": [
    "import sys\n",
    "import os\n",
    "import pandas as pd\n",
    "import \n",
    "\n",
    "from dotenv import load_dotenv\n",
    "\n",
    "# get project root (one up from /jupyter)\n",
    "project_root = os.path.abspath(os.path.join(os.getcwd(), '..'))\n",
    "\n",
    "# get 'src folder path and add to sys.path -> enables importing of our own pythong modules\n",
    "src_path = os.path.join(project_root, 'src')\n",
    "sys.path.append(src_path)\n",
    "\n",
    "load_dotenv()\n",
    "SQLITE_DB_NAME = os.getenv(\"SQLITE_DB_NAME\") or \"EMBRACE_SQLITE_DB.db\"\n",
    "\n",
    "from sqlite_connector import SQLiteConnector\n",
    "SQL = SQLiteConnector(SQLITE_DB_NAME, debug=True)"
   ]
  },
  {
   "cell_type": "code",
   "execution_count": null,
   "id": "7d725f74",
   "metadata": {},
   "outputs": [],
   "source": [
    "SQL.connect_db()\n"
   ]
  }
 ],
 "metadata": {
  "kernelspec": {
   "display_name": "venv",
   "language": "python",
   "name": "python3"
  },
  "language_info": {
   "codemirror_mode": {
    "name": "ipython",
    "version": 3
   },
   "file_extension": ".py",
   "mimetype": "text/x-python",
   "name": "python",
   "nbconvert_exporter": "python",
   "pygments_lexer": "ipython3",
   "version": "3.12.3"
  }
 },
 "nbformat": 4,
 "nbformat_minor": 5
}
